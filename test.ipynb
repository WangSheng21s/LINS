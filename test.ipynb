{
 "cells": [
  {
   "cell_type": "code",
   "execution_count": null,
   "metadata": {},
   "outputs": [],
   "source": [
    "import os\n",
    "os.environ['OPEN_API_KEY'] = 'your-key'"
   ]
  },
  {
   "cell_type": "code",
   "execution_count": 3,
   "metadata": {},
   "outputs": [],
   "source": [
    "from model.model_LINS import LINS\n",
    "\n",
    "lins = LINS() # Initialization, default use of the GPT-4o LLM, the `text-embedding-3-large` retriever, and the PubMed retrieval database.\n"
   ]
  },
  {
   "cell_type": "code",
   "execution_count": null,
   "metadata": {},
   "outputs": [
    {
     "data": {
      "text/plain": [
       "'Hello! How can I assist you today?'"
      ]
     },
     "execution_count": 4,
     "metadata": {},
     "output_type": "execute_result"
    }
   ],
   "source": [
    "#Direct Multi-Round Q&A\n",
    "response, history = lins.chat(question=\"hello\", history=None) \n",
    "response"
   ]
  },
  {
   "cell_type": "code",
   "execution_count": 6,
   "metadata": {},
   "outputs": [
    {
     "name": "stdout",
     "output_type": "stream",
     "text": [
      "Retrieving passages...\n",
      "begin filtering most relevant passages\n"
     ]
    },
    {
     "name": "stderr",
     "output_type": "stream",
     "text": [
      "100%|██████████| 1/1 [00:00<00:00,  1.64it/s]\n"
     ]
    },
    {
     "name": "stdout",
     "output_type": "stream",
     "text": [
      "filtered most relevant passages\n",
      "['https://pubmed.ncbi.nlm.nih.gov/38622249']\n",
      "Passage relevance analysis...\n",
      "Utility passage found.\n"
     ]
    },
    {
     "data": {
      "text/plain": [
       "\"Prasinezumab, a monoclonal antibody targeting aggregated alpha-synuclein, is under investigation for its potential as a disease-modifying therapy in early-stage Parkinson's disease. Although the main objective of the PASADENA phase 2 study, which focused on the Movement Disorder Society Unified Parkinson's Disease Rating Scale (MDS-UPDRS) Parts I + II + III, was not achieved, individuals treated with prasinezumab demonstrated a slower progression of motor signs compared to those receiving a placebo, particularly evident in MDS-UPDRS Part III scores[1]. An exploratory analysis within this study evaluated prasinezumab's effects on motor sign progression in various prespecified subgroups characterized by faster motor progression[1].\\n\\nPrasinezumab showed greater benefits in subgroups with accelerated motor progression, such as participants classified with the diffuse malignant subphenotype or those using monoamine oxidase B inhibitors at the study's start[1]. This post hoc analysis suggests prasinezumab might be more effective in reducing motor progression over one year in individuals with rapidly progressing Parkinson's disease[1]. However, these findings need further validation through additional randomized clinical trials[1].\""
      ]
     },
     "execution_count": 6,
     "metadata": {},
     "output_type": "execute_result"
    }
   ],
   "source": [
    "#Generating Citation-Based Generative Text using LINS including the MAIRAG and KED algorithm\n",
    "response, urls, retrieved_passages, history, sub_questions = lins.MAIRAG(question=\"For Parkinson's disease, whether prasinezumab showed greater benefits on motor signs progression in prespecified subgroups with faster motor progression?\")\n",
    "\n",
    "response"
   ]
  },
  {
   "cell_type": "code",
   "execution_count": 8,
   "metadata": {},
   "outputs": [
    {
     "name": "stdout",
     "output_type": "stream",
     "text": [
      "HERD search...\n",
      "HERD_Pubmed search...\n",
      "begin filtering most relevant passages\n"
     ]
    },
    {
     "name": "stderr",
     "output_type": "stream",
     "text": [
      "100%|██████████| 1/1 [00:00<00:00,  1.15it/s]\n"
     ]
    },
    {
     "name": "stdout",
     "output_type": "stream",
     "text": [
      "filtered most relevant passages\n",
      "['https://pubmed.ncbi.nlm.nih.gov/38622249']\n",
      "Find Gold in HERD_pubmed.\n",
      "['https://pubmed.ncbi.nlm.nih.gov/38622249']\n"
     ]
    },
    {
     "data": {
      "text/plain": [
       "\"Based on the retrieved evidence from the PASADENA phase 2 study, prasinezumab, while not meeting its primary endpoint in terms of the overall MDS-UPDRS (Movement Disorder Society Unified Parkinson's Disease Rating Scale) sum of Parts I + II + III, did show some promising results in exploratory analyses when it comes to motor signs progression (MDS-UPDRS Part III) in specific subgroups of patients with Parkinson's disease[1].\\n\\nThe study suggested that prasinezumab might offer greater benefits in prespecified subgroups characterized by faster motor progression. For instance, enhanced effects were observed in patients categorized as having diffuse malignant subphenotypes or those taking monoamine oxidase B inhibitors at baseline, both considered rapidly progressing subpopulations[1]. \\n\\nThese findings imply that prasinezumab could potentially slow the progression of motor symptoms more significantly in particular subgroups of patients who experience a quicker advancement of motor signs. However, it is important to note that these results stem from a post hoc exploratory analysis, indicating that more extensive randomized clinical trials are necessary to corroborate these outcomes and establish the therapeutic benefit of prasinezumab definitively[1].\\n\\nIn summary, while the evidence suggests possible benefits of prasinezumab in certain rapidly progressing subgroups with Parkinson's disease, the findings are not yet robust enough to change clinical practice, and further research is warranted.\""
      ]
     },
     "execution_count": 8,
     "metadata": {},
     "output_type": "execute_result"
    }
   ],
   "source": [
    "#Generating Evidence-Based Recommendation for Evidence-Based Medicine Practice\n",
    "response, urls, retrieved_passages, history, PICO_question = lins.AEBMP(PICO_question=\"For Parkinson's disease, whether prasinezumab showed greater benefits on motor signs progression in prespecified subgroups with faster motor progression?\", if_guidelines=False, patient_information=\"A 76-year-old female patient was admitted to the hospital due to \\\"numbness in the left lower limb for 1 year and involuntary tremors in the right lower limb for more than 3 months.\\\" The patient reported experiencing numbness in the left lower limb a year ago without any apparent trigger, for which no specific treatment was administered. Three months ago, she began experiencing involuntary tremors in the right lower limb without any apparent cause. The tremors intensified during moments of mental tension or emotional excitement and eased during sleep. Tremors were also observed in the right upper limb when holding objects, accompanied by difficulty initiating walking, feelings of fatigue, and memory decline, primarily affecting recent memory. She reported no additional symptoms, such as decreased sense of smell, shortness of breath, chest tightness, frequent nightmares, suspiciousness, or limb numbness. The patient sought medical attention at a local hospital, where she was diagnosed with \\\"Parkinson's disease\\\" and prescribed \\\"Tasud 50 mg, three times daily.\\\" Two months ago, she experienced a coma after taking the medication, with no response to external stimuli, and was urgently taken to the local hospital, where her blood glucose level was measured at 1.4 mmol/L. Her condition improved after receiving appropriate symptomatic treatment. She is currently taking \\\"Madopar 125 mg, three times daily\\\" regularly, is able to perform fine motor tasks adequately, and can manage daily activities independently. Since the onset of her illness, she has had a generally stable mental state, with a normal appetite, good sleep, bowel movements every 2-3 days, normal urination, and no significant changes in body weight.\")\n",
    "\n",
    "response"
   ]
  },
  {
   "cell_type": "code",
   "execution_count": 15,
   "metadata": {},
   "outputs": [
    {
     "name": "stdout",
     "output_type": "stream",
     "text": [
      "Extracting medical entities...\n",
      "Entities extracted: ['Ischemic Bowel Disease', 'papaverine hydrochloride']\n",
      "Explaining medical entities...\n",
      "Searching for entity: Ischemic Bowel Disease\n",
      "begin filtering most relevant passages\n"
     ]
    },
    {
     "name": "stderr",
     "output_type": "stream",
     "text": [
      "100%|██████████| 77/77 [00:02<00:00, 32.75it/s]\n"
     ]
    },
    {
     "name": "stdout",
     "output_type": "stream",
     "text": [
      "filtered most relevant passages\n",
      "['https://pubmed.ncbi.nlm.nih.gov/2194948', 'https://pubmed.ncbi.nlm.nih.gov/34447224']\n",
      "['https://pubmed.ncbi.nlm.nih.gov/2194948', 'https://pubmed.ncbi.nlm.nih.gov/34447224']\n",
      "Explanation for entity Ischemic Bowel Disease: Ischemic Bowel Disease is a condition where there is insufficient blood flow to meet the metabolic needs of the bowel, resulting in damage to various portions of the intestinal tract. This condition is more commonly seen in elderly individuals and can manifest in various forms, such as colon ischemia, acute mesenteric ischemia, and chronic mesenteric ischemia. Typical symptoms include abdominal pain, and the condition requires careful monitoring and management to prevent severe complications. In your case, the treatment plan includes bed rest, avoiding stress, fasting, and administering continuous oxygen, along with fluid replacement to correct any imbalances in water and electrolytes. The use of papaverine hydrochloride is aimed at relieving any bowel spasms and pain by dilating the blood vessels, thereby improving blood flow. Regular monitoring of symptoms is crucial, and in more severe cases, further intervention such as surgical resection or revascularization might be necessary, often involving a multidisciplinary team.\n",
      "Evidence sources:\n",
      "[1] https://pubmed.ncbi.nlm.nih.gov/2194948\n",
      "[2] https://pubmed.ncbi.nlm.nih.gov/34447224\n",
      "Searching for entity: papaverine hydrochloride\n",
      "begin filtering most relevant passages\n"
     ]
    },
    {
     "name": "stderr",
     "output_type": "stream",
     "text": [
      "100%|██████████| 75/75 [00:03<00:00, 22.84it/s]\n"
     ]
    },
    {
     "name": "stdout",
     "output_type": "stream",
     "text": [
      "filtered most relevant passages\n",
      "['https://pubmed.ncbi.nlm.nih.gov/2342173', 'https://pubmed.ncbi.nlm.nih.gov/12269394']\n",
      "['https://pubmed.ncbi.nlm.nih.gov/2342173', 'https://pubmed.ncbi.nlm.nih.gov/12269394']\n",
      "Explanation for entity papaverine hydrochloride: Papaverine hydrochloride is a medication that acts as a vasodilator, meaning it helps to dilate or widen blood vessels, which is beneficial in several medical situations, including the treatment of ischemic bowel disease you are experiencing. By relaxing the smooth muscles in the walls of blood vessels, papaverine hydrochloride helps increase blood flow to affected areas. In the context of your condition, where there may be a temporary reduction in blood supply to the intestines, using papaverine hydrochloride can help alleviate spasms and pain by ensuring that adequate blood flow is maintained, thus promoting healing and reducing discomfort. It is administered with caution in clinical settings, as research indicates that high concentrations of papaverine can induce cellular changes that may lead to apoptosis, or programmed cell death, in endothelial and smooth muscle cells. However, when used in appropriate doses, it serves a crucial role in managing conditions that involve vascular spasms and reduced blood flow.\n",
      "Evidence sources:\n",
      "[1] https://pubmed.ncbi.nlm.nih.gov/2342173\n",
      "[2] https://pubmed.ncbi.nlm.nih.gov/12269394\n",
      "generating retrieval question...\n",
      "retrieval question: What are the causes of ischemic bowel disease in a 53-year-old female with a history of chronic gastritis and recent polypectomy?\n",
      "Retrieving passages...\n",
      "no data found, using keyword extraction\n",
      "keyword: (ischemic bowel disease) AND (53-year-old female) AND (chronic gastritis) AND (recent polypectomy)\n",
      "keyword: (ischemic bowel disease) AND (53-year-old female) AND (chronic gastritis)\n",
      "keyword: (ischemic bowel disease) AND (53-year-old female)\n",
      "data found\n",
      "['https://pubmed.ncbi.nlm.nih.gov/16169578', 'https://pubmed.ncbi.nlm.nih.gov/21656084', 'https://pubmed.ncbi.nlm.nih.gov/20442524', 'https://pubmed.ncbi.nlm.nih.gov/33974618', 'https://pubmed.ncbi.nlm.nih.gov/27426671', 'https://pubmed.ncbi.nlm.nih.gov/23110681', 'https://pubmed.ncbi.nlm.nih.gov/15754264', 'https://pubmed.ncbi.nlm.nih.gov/21671831', 'https://pubmed.ncbi.nlm.nih.gov/19647468', 'https://pubmed.ncbi.nlm.nih.gov/12440753', 'https://pubmed.ncbi.nlm.nih.gov/17633978']\n",
      "begin filtering most relevant passages\n"
     ]
    },
    {
     "name": "stderr",
     "output_type": "stream",
     "text": [
      "100%|██████████| 11/11 [00:01<00:00,  7.14it/s]\n"
     ]
    },
    {
     "name": "stdout",
     "output_type": "stream",
     "text": [
      "filtered most relevant passages\n",
      "['https://pubmed.ncbi.nlm.nih.gov/21656084', 'https://pubmed.ncbi.nlm.nih.gov/23110681', 'https://pubmed.ncbi.nlm.nih.gov/27426671']\n",
      "Passage relevance analysis...\n",
      "Utility passage found.\n",
      "['Ischemic Bowel Disease is a condition where there is insufficient blood flow to meet the metabolic needs of the bowel, resulting in damage to various portions of the intestinal tract. This condition is more commonly seen in elderly individuals and can manifest in various forms, such as colon ischemia, acute mesenteric ischemia, and chronic mesenteric ischemia. Typical symptoms include abdominal pain, and the condition requires careful monitoring and management to prevent severe complications. In your case, the treatment plan includes bed rest, avoiding stress, fasting, and administering continuous oxygen, along with fluid replacement to correct any imbalances in water and electrolytes. The use of papaverine hydrochloride is aimed at relieving any bowel spasms and pain by dilating the blood vessels, thereby improving blood flow. Regular monitoring of symptoms is crucial, and in more severe cases, further intervention such as surgical resection or revascularization might be necessary, often involving a multidisciplinary team.', 'Papaverine hydrochloride is a medication that acts as a vasodilator, meaning it helps to dilate or widen blood vessels, which is beneficial in several medical situations, including the treatment of ischemic bowel disease you are experiencing. By relaxing the smooth muscles in the walls of blood vessels, papaverine hydrochloride helps increase blood flow to affected areas. In the context of your condition, where there may be a temporary reduction in blood supply to the intestines, using papaverine hydrochloride can help alleviate spasms and pain by ensuring that adequate blood flow is maintained, thus promoting healing and reducing discomfort. It is administered with caution in clinical settings, as research indicates that high concentrations of papaverine can induce cellular changes that may lead to apoptosis, or programmed cell death, in endothelial and smooth muscle cells. However, when used in appropriate doses, it serves a crucial role in managing conditions that involve vascular spasms and reduced blood flow.'] Ischemic bowel disease is generally caused by a reduction in blood flow to a segment of the intestines, which can result from various underlying conditions. Though the retrieved passages do not provide specific details regarding common causes, they describe an instance of mesenteric ischemia caused by recreational cocaine use, which is a known risk factor due to cocaine's vasoconstrictive effects[1]. This condition led to intestinal ischemia as observed in a case where the patient had extensive portal venous air and small-bowel pneumatosis, emphasizing the serious nature of cocaine-induced mesenteric ischemia and its potential to require surgical intervention[1].\n"
     ]
    }
   ],
   "source": [
    "#Generating Evidence-Based Answers for Medical Order Explanation to Patients\n",
    "medical_term_explanations, clinical_answer = lins.MOEQA(if_QA=True, if_explanation=True, question=\"What causes ischemic bowel disease?\", explain_text=\"Preliminary Diagnosis: Ischemic Bowel Disease.\\nManagement: Instructed patient to rest in bed, avoid stress, keep nil by mouth, provide continuous oxygen inhalation, fluid replacement to maintain water and electrolyte balance, use papaverine hydrochloride to relieve spasms and pain, dilate blood vessels to maintain blood flow, and observe symptoms the next day.\", patient_information=\"Gender: Female, Age: 53 years\\nChief Complaint: Admitted for \\\"recurrent abdominal pain and bloating for over 2 years.\\\"\\nCurrent Illness History: The patient experienced abdominal pain 2 years ago, especially under the xiphoid process, presenting as intermittent dull pain and discomfort, with episodes lasting variable durations, aggravated after a full meal, accompanied by bloating, bitter mouth, fatigue, without cough or sputum, chills, or fever. Local hospital's gastroscopy diagnosed chronic gastritis, treated with oral Zhi Shu Kuang Zhong Capsules, Domperidone Tablets, etc. with symptoms improving occasionally but easily recurring. Four days ago, a broad-based polyp about 0.6 cm in diameter was found in the hepatic flexure and removed with endoscopic clipping, with no abnormalities observed in the rest of the colon and rectum; on the first postoperative day, the patient experienced abdominal cramps and frequent bloody stools.\\nPast History: No history of hypertension, diabetes, coronary artery disease; no drug or food allergies, no history of ulcerative colitis or Crohn's disease, no history of hematological diseases.\\nPhysical Examination: Pulse 71/min, Respiration 20/min, Blood pressure 120/80 mmHg (1 mmHg=0.133 kPa). Abdomen flat, no gastrointestinal shape or peristaltic wave observed, no abdominal wall varicosities, whole abdomen soft, tenderness under xiphoid and around navel, no rebound tenderness or muscle tension, liver and spleen not palpable below ribs. Murphy sign negative. Whole abdomen without palpable mass, shifting dullness negative, no knocking pain in liver and kidney areas, bowel sounds 4/min.\\nAuxiliary Examination: No abnormalities in routine blood tests and coagulation function tests. Colonoscopy: diffuse dark red and purplish-red changes in descending colon and sigmoid colon mucosa, significant swelling with multiple patchy erosions and irregular shallow ulcers, bruising; observation of post-polypectomy site revealed a clip device in place, no bleeding points found; Abdominal enhanced CT: swelling of the descending and sigmoid colon with multiple small blood vessels showing around normally contrasting bowel segments, abdominal vascular CTA showed clear mesenteric artery and major branches, no thrombosis or significant stenosis noted.\\nPreliminary Diagnosis: Ischemic Bowel Disease.\\nManagement: Instructed patient to rest in bed, avoid stress, keep nil by mouth, provide continuous oxygen inhalation, fluid replacement to maintain water and electrolyte balance, use papaverine hydrochloride to relieve spasms and pain, dilate blood vessels to maintain blood flow, and observe symptoms the next day.\")\n",
    "\n",
    "print(medical_term_explanations['entity_explanations'], clinical_answer['QA_response'])"
   ]
  },
  {
   "cell_type": "code",
   "execution_count": 16,
   "metadata": {},
   "outputs": [
    {
     "name": "stdout",
     "output_type": "stream",
     "text": [
      "Ischemic bowel disease is generally caused by a reduction in blood flow to a segment of the intestines, which can result from various underlying conditions. Though the retrieved passages do not provide specific details regarding common causes, they describe an instance of mesenteric ischemia caused by recreational cocaine use, which is a known risk factor due to cocaine's vasoconstrictive effects[1]. This condition led to intestinal ischemia as observed in a case where the patient had extensive portal venous air and small-bowel pneumatosis, emphasizing the serious nature of cocaine-induced mesenteric ischemia and its potential to require surgical intervention[1].\n"
     ]
    }
   ],
   "source": [
    "print(clinical_answer['QA_response'])"
   ]
  }
 ],
 "metadata": {
  "kernelspec": {
   "display_name": "LINS-test",
   "language": "python",
   "name": "python3"
  },
  "language_info": {
   "codemirror_mode": {
    "name": "ipython",
    "version": 3
   },
   "file_extension": ".py",
   "mimetype": "text/x-python",
   "name": "python",
   "nbconvert_exporter": "python",
   "pygments_lexer": "ipython3",
   "version": "3.11.6"
  }
 },
 "nbformat": 4,
 "nbformat_minor": 2
}
